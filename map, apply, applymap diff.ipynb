{
 "cells": [
  {
   "cell_type": "code",
   "execution_count": 1,
   "metadata": {},
   "outputs": [],
   "source": [
    "import pandas as pd\n",
    "import random\n",
    "import numpy as np\n",
    "import pdb"
   ]
  },
  {
   "cell_type": "code",
   "execution_count": 2,
   "metadata": {},
   "outputs": [
    {
     "data": {
      "text/html": [
       "<div>\n",
       "<style scoped>\n",
       "    .dataframe tbody tr th:only-of-type {\n",
       "        vertical-align: middle;\n",
       "    }\n",
       "\n",
       "    .dataframe tbody tr th {\n",
       "        vertical-align: top;\n",
       "    }\n",
       "\n",
       "    .dataframe thead th {\n",
       "        text-align: right;\n",
       "    }\n",
       "</style>\n",
       "<table border=\"1\" class=\"dataframe\">\n",
       "  <thead>\n",
       "    <tr style=\"text-align: right;\">\n",
       "      <th></th>\n",
       "      <th>team</th>\n",
       "      <th>against</th>\n",
       "      <th>fifa_rank</th>\n",
       "    </tr>\n",
       "  </thead>\n",
       "  <tbody>\n",
       "    <tr>\n",
       "      <th>0</th>\n",
       "      <td>russia</td>\n",
       "      <td>saudiarabia</td>\n",
       "      <td>65</td>\n",
       "    </tr>\n",
       "    <tr>\n",
       "      <th>1</th>\n",
       "      <td>saudiarabia</td>\n",
       "      <td>russia</td>\n",
       "      <td>63</td>\n",
       "    </tr>\n",
       "    <tr>\n",
       "      <th>2</th>\n",
       "      <td>egypt</td>\n",
       "      <td>uruguay</td>\n",
       "      <td>31</td>\n",
       "    </tr>\n",
       "    <tr>\n",
       "      <th>3</th>\n",
       "      <td>uruguay</td>\n",
       "      <td>egypt</td>\n",
       "      <td>21</td>\n",
       "    </tr>\n",
       "  </tbody>\n",
       "</table>\n",
       "</div>"
      ],
      "text/plain": [
       "          team      against  fifa_rank\n",
       "0       russia  saudiarabia         65\n",
       "1  saudiarabia       russia         63\n",
       "2        egypt      uruguay         31\n",
       "3      uruguay        egypt         21"
      ]
     },
     "execution_count": 2,
     "metadata": {},
     "output_type": "execute_result"
    }
   ],
   "source": [
    "data = {'team' : ['russia', 'saudiarabia', 'egypt', 'uruguay'],\n",
    "        'against': ['saudiarabia', 'russia', 'uruguay', 'egypt'],\n",
    "        'fifa_rank': [65, 63, 31, 21]}\n",
    "\n",
    "columns = ['team', 'against', 'fifa_rank']\n",
    "\n",
    "df = pd.DataFrame(data, columns = columns)\n",
    "df"
   ]
  },
  {
   "cell_type": "code",
   "execution_count": 3,
   "metadata": {},
   "outputs": [],
   "source": [
    "def total_record(team):\n",
    "    win_count = len(team) * random.randint(1, 10)\n",
    "    draw_count = len(team) * random.randint(1, 10)\n",
    "    lose_count = len(team) * random.randint(1, 10)\n",
    "    winning_rate = win_count / (win_count+draw_count+lose_count)\n",
    "    return win_count, draw_count, lose_count, float('%.2f' % winning_rate)"
   ]
  },
  {
   "cell_type": "code",
   "execution_count": 4,
   "metadata": {},
   "outputs": [
    {
     "data": {
      "text/plain": [
       "(54, 36, 48, 0.39)"
      ]
     },
     "execution_count": 4,
     "metadata": {},
     "output_type": "execute_result"
    }
   ],
   "source": [
    "total_record('russia')"
   ]
  },
  {
   "cell_type": "code",
   "execution_count": 5,
   "metadata": {},
   "outputs": [
    {
     "name": "stdout",
     "output_type": "stream",
     "text": [
      "--Return--\n",
      "> <ipython-input-5-ba0a10d76560>(2)<module>()->None\n",
      "-> pdb.set_trace()\n",
      "(Pdb) b 2\n",
      "Breakpoint 1 at <ipython-input-5-ba0a10d76560>:2\n",
      "(Pdb) c\n"
     ]
    }
   ],
   "source": [
    "# map\n",
    "pdb.set_trace()\n",
    "df['winning_rate']  = df['team'].map(lambda x : total_record(x)[3])"
   ]
  },
  {
   "cell_type": "code",
   "execution_count": 6,
   "metadata": {},
   "outputs": [],
   "source": [
    "# apply\n",
    "def relative_record(team, against):\n",
    "    win_count = len(team) * random.randint(1, 10)\n",
    "    draw_count = len(team) * random.randint(1, 10)\n",
    "    lose_count = len(team) * random.randint(1, 10)\n",
    "    winning_rate = win_count / (win_count+draw_count+lose_count)\n",
    "    return win_count, draw_count, lose_count, float('%.2f' % winning_rate)"
   ]
  },
  {
   "cell_type": "code",
   "execution_count": 7,
   "metadata": {},
   "outputs": [
    {
     "name": "stdout",
     "output_type": "stream",
     "text": [
      "--Return--\n",
      "> <ipython-input-7-9ebd942b273b>(1)<module>()->None\n",
      "-> pdb.set_trace()\n",
      "(Pdb) b 2\n",
      "Breakpoint 2 at <ipython-input-7-9ebd942b273b>:2\n",
      "(Pdb) c\n",
      "> <ipython-input-7-9ebd942b273b>(2)<module>()->None\n",
      "-> df['winning_rate'] = df.apply(lambda x:relative_record(x['team'], x['against'])[3], axis=1)\n",
      "(Pdb) n\n",
      "> <ipython-input-7-9ebd942b273b>(2)<lambda>()\n",
      "-> df['winning_rate'] = df.apply(lambda x:relative_record(x['team'], x['against'])[3], axis=1)\n",
      "(Pdb) x\n",
      "team                 russia\n",
      "against         saudiarabia\n",
      "fifa_rank                65\n",
      "winning_rate           0.07\n",
      "Name: 0, dtype: object\n",
      "(Pdb) c\n",
      "> <ipython-input-7-9ebd942b273b>(2)<lambda>()\n",
      "-> df['winning_rate'] = df.apply(lambda x:relative_record(x['team'], x['against'])[3], axis=1)\n",
      "(Pdb) x\n",
      "team            saudiarabia\n",
      "against              russia\n",
      "fifa_rank                63\n",
      "winning_rate           0.36\n",
      "Name: 1, dtype: object\n",
      "(Pdb) c\n",
      "> <ipython-input-7-9ebd942b273b>(2)<lambda>()\n",
      "-> df['winning_rate'] = df.apply(lambda x:relative_record(x['team'], x['against'])[3], axis=1)\n",
      "(Pdb) x\n",
      "team              egypt\n",
      "against         uruguay\n",
      "fifa_rank            31\n",
      "winning_rate       0.38\n",
      "Name: 2, dtype: object\n",
      "(Pdb) c\n",
      "> <ipython-input-7-9ebd942b273b>(2)<lambda>()\n",
      "-> df['winning_rate'] = df.apply(lambda x:relative_record(x['team'], x['against'])[3], axis=1)\n",
      "(Pdb) x\n",
      "team            uruguay\n",
      "against           egypt\n",
      "fifa_rank            21\n",
      "winning_rate       0.37\n",
      "Name: 3, dtype: object\n",
      "(Pdb) c\n"
     ]
    }
   ],
   "source": [
    "pdb.set_trace()\n",
    "df['winning_rate'] = df.apply(lambda x:relative_record(x['team'], x['against'])[3], axis=1)"
   ]
  },
  {
   "cell_type": "code",
   "execution_count": 8,
   "metadata": {},
   "outputs": [
    {
     "data": {
      "text/html": [
       "<div>\n",
       "<style scoped>\n",
       "    .dataframe tbody tr th:only-of-type {\n",
       "        vertical-align: middle;\n",
       "    }\n",
       "\n",
       "    .dataframe tbody tr th {\n",
       "        vertical-align: top;\n",
       "    }\n",
       "\n",
       "    .dataframe thead th {\n",
       "        text-align: right;\n",
       "    }\n",
       "</style>\n",
       "<table border=\"1\" class=\"dataframe\">\n",
       "  <thead>\n",
       "    <tr style=\"text-align: right;\">\n",
       "      <th></th>\n",
       "      <th>team</th>\n",
       "      <th>against</th>\n",
       "      <th>fifa_rank</th>\n",
       "      <th>winning_rate</th>\n",
       "    </tr>\n",
       "  </thead>\n",
       "  <tbody>\n",
       "    <tr>\n",
       "      <th>0</th>\n",
       "      <td>russia</td>\n",
       "      <td>saudiarabia</td>\n",
       "      <td>65</td>\n",
       "      <td>0.42</td>\n",
       "    </tr>\n",
       "    <tr>\n",
       "      <th>1</th>\n",
       "      <td>saudiarabia</td>\n",
       "      <td>russia</td>\n",
       "      <td>63</td>\n",
       "      <td>0.56</td>\n",
       "    </tr>\n",
       "    <tr>\n",
       "      <th>2</th>\n",
       "      <td>egypt</td>\n",
       "      <td>uruguay</td>\n",
       "      <td>31</td>\n",
       "      <td>0.39</td>\n",
       "    </tr>\n",
       "    <tr>\n",
       "      <th>3</th>\n",
       "      <td>uruguay</td>\n",
       "      <td>egypt</td>\n",
       "      <td>21</td>\n",
       "      <td>0.39</td>\n",
       "    </tr>\n",
       "  </tbody>\n",
       "</table>\n",
       "</div>"
      ],
      "text/plain": [
       "          team      against  fifa_rank  winning_rate\n",
       "0       russia  saudiarabia         65          0.42\n",
       "1  saudiarabia       russia         63          0.56\n",
       "2        egypt      uruguay         31          0.39\n",
       "3      uruguay        egypt         21          0.39"
      ]
     },
     "execution_count": 8,
     "metadata": {},
     "output_type": "execute_result"
    }
   ],
   "source": [
    "df"
   ]
  },
  {
   "cell_type": "code",
   "execution_count": null,
   "metadata": {},
   "outputs": [],
   "source": []
  }
 ],
 "metadata": {
  "kernelspec": {
   "display_name": "Python 3",
   "language": "python",
   "name": "python3"
  },
  "language_info": {
   "codemirror_mode": {
    "name": "ipython",
    "version": 3
   },
   "file_extension": ".py",
   "mimetype": "text/x-python",
   "name": "python",
   "nbconvert_exporter": "python",
   "pygments_lexer": "ipython3",
   "version": "3.5.2"
  }
 },
 "nbformat": 4,
 "nbformat_minor": 2
}
